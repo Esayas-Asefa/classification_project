{
 "cells": [
  {
   "cell_type": "markdown",
   "id": "89017995",
   "metadata": {},
   "source": [
    "# Churn\n",
    "\n",
    "## Goal:\n",
    "\n",
    "- Discover drivers of churn in Telco\n",
    "- Use drivers to develop"
   ]
  },
  {
   "cell_type": "code",
   "execution_count": null,
   "id": "6adacb14",
   "metadata": {},
   "outputs": [],
   "source": []
  },
  {
   "cell_type": "markdown",
   "id": "1e375381",
   "metadata": {},
   "source": [
    "# Imports"
   ]
  },
  {
   "cell_type": "code",
   "execution_count": 17,
   "id": "ac29bbfd",
   "metadata": {},
   "outputs": [],
   "source": [
    "import pandas as pd\n",
    "from scipy import stats\n",
    "import wrangle as acq\n",
    "import env\n",
    "import os\n",
    "import numpy as np\n",
    "import matplotlib.pyplot as plt\n",
    "import seaborn as sns\n",
    "from pydataset import data\n",
    "from sklearn.model_selection import train_test_split\n",
    "from sklearn.metrics import recall_score\n",
    "from sklearn.tree import DecisionTreeClassifier, plot_tree\n",
    "from sklearn.metrics import confusion_matrix\n",
    "import matplotlib.pyplot as plt\n",
    "from termcolor import colored\n",
    "from sklearn.metrics import precision_score\n",
    "from sklearn.metrics import accuracy_score\n",
    "from sklearn.metrics import recall_score\n",
    "from sklearn.metrics import classification_report\n",
    "from sklearn.ensemble import RandomForestClassifier\n",
    "from sklearn.linear_model import LogisticRegression\n",
    "import matplotlib.pyplot as plt\n",
    "import warnings\n",
    "warnings.filterwarnings('ignore')\n",
    "\n",
    "from io import StringIO"
   ]
  },
  {
   "cell_type": "markdown",
   "id": "92a337c6",
   "metadata": {},
   "source": [
    "# Acquire\n",
    "\n",
    "- Data acquired from Kaggle\n",
    "- It contained 7043 rows and 31 columns before cleaning\n",
    "- Each row represents a chess game played on Lichess.org\n",
    "- Each column represents a feature of those games\n",
    "\n",
    "# Prepare\n",
    "\n",
    "Prepare Actions:\n",
    "\n",
    "Removed columns that did not contain useful information\n",
    "Checked for nulls in the data (there were none)\n",
    "Removed rows with nulls\n",
    "Split data into train test validate\n",
    "\n",
    "# Data Dictionary\n",
    "\n",
    "| Feature | Definition |\n",
    "|:--------|:-----------|\n",
    "|tenure| How many months the customer has been a customer|\n",
    "|monthly_charges| How much the customer pays monthly|\n",
    "|Contract type ID| The total the customer has paid|\n",
    "|gender_Male| Whether the customer is male or not (0:no, 1:yes)|\n",
    "|senior_citizen_Yes| Whether the customer is a senior citizen or not 0:no, 1:yes|\n",
    "|partner_Yes| Whether the customer has a partner or not (0:no, 1:yes)|\n",
    "|dependents_Yes| Whether the customer has dependents or not (0:no, 1:yes)|\n",
    "|phone_service_Yes| Whether the customer has phone service or not (0:no, 1:yes)|\n",
    "|multiple_lines_No phone service| Whether the customer has multiple lines of service w/o phone service|\n",
    "|multiple_lines_Yes| Whether the customer has multiple lines of service or not|\n",
    "|online_security_No internet service|Whether the customer has online security w/o internet service or not|\n",
    "|online_security_Yes|Whether the customer has online security or not|\n",
    "|online_backup_No internet service|Whether the customer has online backup w/o internet service or not|\n",
    "|online_backup_Yes|Whether the customer has online backup or not|\n",
    "|device_protection_No internet service|Whether the customer has device protection w/o internet service or not|\n",
    "|device_protection_Yes|Whether the customer has device protection or not|\n",
    "|tech_support_No internet service|Whether the customer has tech support w/o internet service or not|\n",
    "|tech_support_Yes|Whether the customer has tech support or not|\n",
    "|streaming_tv_No internet service|Whether the customer has tv streaming services w/o internet service or not|\n",
    "|streaming_tv_Yes|Whether the customer has tv streaming services or not|\n",
    "|streaming_movies_No internet service|Whether the customer has movie streaming services w/o internet services or not|\n",
    "|streaming_movies_Yes|Whether the customer has movie streaming services or not|\n",
    "|paperless_billing_Yes|Whether the customer is enrolled in paperless billing or not|\n",
    "|churn_Yes|Whether the customer churned or not 0:no, 1:yes|\n",
    "\n"
   ]
  },
  {
   "cell_type": "code",
   "execution_count": 15,
   "id": "4d48929a",
   "metadata": {},
   "outputs": [
    {
     "data": {
      "text/plain": [
       "Index(['tenure', 'monthly_charges', 'total_charges', 'gender_Male',\n",
       "       'senior_citizen_Yes', 'partner_Yes', 'dependents_Yes',\n",
       "       'phone_service_Yes', 'multiple_lines_No phone service',\n",
       "       'multiple_lines_Yes', 'online_security_No internet service',\n",
       "       'online_security_Yes', 'online_backup_No internet service',\n",
       "       'online_backup_Yes', 'device_protection_No internet service',\n",
       "       'device_protection_Yes', 'tech_support_No internet service',\n",
       "       'tech_support_Yes', 'streaming_tv_No internet service',\n",
       "       'streaming_tv_Yes', 'streaming_movies_No internet service',\n",
       "       'streaming_movies_Yes', 'paperless_billing_Yes',\n",
       "       'contract_type_One year', 'contract_type_Two year',\n",
       "       'internet_service_type_Fiber optic', 'internet_service_type_None',\n",
       "       'payment_type_Credit card (automatic)', 'payment_type_Electronic check',\n",
       "       'payment_type_Mailed check'],\n",
       "      dtype='object')"
      ]
     },
     "execution_count": 15,
     "metadata": {},
     "output_type": "execute_result"
    }
   ],
   "source": [
    "X.columns"
   ]
  },
  {
   "cell_type": "code",
   "execution_count": 22,
   "id": "18247228",
   "metadata": {},
   "outputs": [
    {
     "name": "stdout",
     "output_type": "stream",
     "text": [
      "csv file found and loaded\n"
     ]
    }
   ],
   "source": [
    "# acquiring, cleaning, and adding features to data\n",
    "df = acq.prep_telco()\n",
    "\n",
    "#Split dataset into two components\n",
    "\n",
    "X = df.drop(['tenure', 'monthly_charges', 'total_charges',\n",
    "             'phone_service_Yes', 'multiple_lines_No phone service', \n",
    "            'multiple_lines_Yes', 'online_security_No internet service',\n",
    "       'online_security_Yes', 'online_backup_No internet service',\n",
    "       'online_backup_Yes', 'device_protection_No internet service',\n",
    "       'device_protection_Yes', 'tech_support_No internet service',\n",
    "       'tech_support_Yes', 'streaming_tv_No internet service',\n",
    "       'streaming_tv_Yes', 'streaming_movies_No internet service',\n",
    "       'streaming_movies_Yes', 'paperless_billing_Yes',\n",
    "       'contract_type_One year', 'contract_type_Two year',\n",
    "       'internet_service_type_Fiber optic', 'internet_service_type_None',\n",
    "       'payment_type_Credit card (automatic)', 'payment_type_Electronic check',\n",
    "       'payment_type_Mailed check'], axis=1)\n",
    "Y = df.churn_Yes\n",
    "\n",
    "#converted X and Y components into DataFrames\n",
    "\n",
    "X = pd.DataFrame(X)\n",
    "Y = pd.DataFrame(Y)\n",
    "\n",
    "\n",
    "# splitting data into train, validate, and test\n",
    "X_train, X_validate, X_test, y_train, y_validate, y_test = acq.train_validate_test_split(X, Y)"
   ]
  },
  {
   "cell_type": "markdown",
   "id": "02391b4a",
   "metadata": {},
   "source": [
    "## A brief look at the data"
   ]
  },
  {
   "cell_type": "code",
   "execution_count": 23,
   "id": "f1c93b85",
   "metadata": {},
   "outputs": [
    {
     "data": {
      "text/html": [
       "<div>\n",
       "<style scoped>\n",
       "    .dataframe tbody tr th:only-of-type {\n",
       "        vertical-align: middle;\n",
       "    }\n",
       "\n",
       "    .dataframe tbody tr th {\n",
       "        vertical-align: top;\n",
       "    }\n",
       "\n",
       "    .dataframe thead th {\n",
       "        text-align: right;\n",
       "    }\n",
       "</style>\n",
       "<table border=\"1\" class=\"dataframe\">\n",
       "  <thead>\n",
       "    <tr style=\"text-align: right;\">\n",
       "      <th></th>\n",
       "      <th>gender_Male</th>\n",
       "      <th>senior_citizen_Yes</th>\n",
       "      <th>partner_Yes</th>\n",
       "      <th>dependents_Yes</th>\n",
       "      <th>churn_Yes</th>\n",
       "    </tr>\n",
       "  </thead>\n",
       "  <tbody>\n",
       "    <tr>\n",
       "      <th>5911</th>\n",
       "      <td>1</td>\n",
       "      <td>0</td>\n",
       "      <td>0</td>\n",
       "      <td>1</td>\n",
       "      <td>0</td>\n",
       "    </tr>\n",
       "    <tr>\n",
       "      <th>2479</th>\n",
       "      <td>0</td>\n",
       "      <td>0</td>\n",
       "      <td>1</td>\n",
       "      <td>0</td>\n",
       "      <td>0</td>\n",
       "    </tr>\n",
       "    <tr>\n",
       "      <th>5889</th>\n",
       "      <td>0</td>\n",
       "      <td>0</td>\n",
       "      <td>0</td>\n",
       "      <td>0</td>\n",
       "      <td>1</td>\n",
       "    </tr>\n",
       "    <tr>\n",
       "      <th>6087</th>\n",
       "      <td>1</td>\n",
       "      <td>0</td>\n",
       "      <td>0</td>\n",
       "      <td>0</td>\n",
       "      <td>0</td>\n",
       "    </tr>\n",
       "    <tr>\n",
       "      <th>785</th>\n",
       "      <td>0</td>\n",
       "      <td>0</td>\n",
       "      <td>0</td>\n",
       "      <td>0</td>\n",
       "      <td>0</td>\n",
       "    </tr>\n",
       "  </tbody>\n",
       "</table>\n",
       "</div>"
      ],
      "text/plain": [
       "      gender_Male  senior_citizen_Yes  partner_Yes  dependents_Yes  churn_Yes\n",
       "5911            1                   0            0               1          0\n",
       "2479            0                   0            1               0          0\n",
       "5889            0                   0            0               0          1\n",
       "6087            1                   0            0               0          0\n",
       "785             0                   0            0               0          0"
      ]
     },
     "execution_count": 23,
     "metadata": {},
     "output_type": "execute_result"
    }
   ],
   "source": [
    "X_train.head()"
   ]
  },
  {
   "cell_type": "code",
   "execution_count": 24,
   "id": "fa125e94",
   "metadata": {},
   "outputs": [
    {
     "data": {
      "text/html": [
       "<div>\n",
       "<style scoped>\n",
       "    .dataframe tbody tr th:only-of-type {\n",
       "        vertical-align: middle;\n",
       "    }\n",
       "\n",
       "    .dataframe tbody tr th {\n",
       "        vertical-align: top;\n",
       "    }\n",
       "\n",
       "    .dataframe thead th {\n",
       "        text-align: right;\n",
       "    }\n",
       "</style>\n",
       "<table border=\"1\" class=\"dataframe\">\n",
       "  <thead>\n",
       "    <tr style=\"text-align: right;\">\n",
       "      <th></th>\n",
       "      <th>churn_Yes</th>\n",
       "    </tr>\n",
       "  </thead>\n",
       "  <tbody>\n",
       "    <tr>\n",
       "      <th>5911</th>\n",
       "      <td>0</td>\n",
       "    </tr>\n",
       "    <tr>\n",
       "      <th>2479</th>\n",
       "      <td>0</td>\n",
       "    </tr>\n",
       "    <tr>\n",
       "      <th>5889</th>\n",
       "      <td>1</td>\n",
       "    </tr>\n",
       "    <tr>\n",
       "      <th>6087</th>\n",
       "      <td>0</td>\n",
       "    </tr>\n",
       "    <tr>\n",
       "      <th>785</th>\n",
       "      <td>0</td>\n",
       "    </tr>\n",
       "  </tbody>\n",
       "</table>\n",
       "</div>"
      ],
      "text/plain": [
       "      churn_Yes\n",
       "5911          0\n",
       "2479          0\n",
       "5889          1\n",
       "6087          0\n",
       "785           0"
      ]
     },
     "execution_count": 24,
     "metadata": {},
     "output_type": "execute_result"
    }
   ],
   "source": [
    "y_train.head()"
   ]
  },
  {
   "cell_type": "markdown",
   "id": "78f43876",
   "metadata": {},
   "source": [
    "## A summary of the data"
   ]
  },
  {
   "cell_type": "code",
   "execution_count": 25,
   "id": "03caf4b4",
   "metadata": {},
   "outputs": [
    {
     "data": {
      "text/html": [
       "<div>\n",
       "<style scoped>\n",
       "    .dataframe tbody tr th:only-of-type {\n",
       "        vertical-align: middle;\n",
       "    }\n",
       "\n",
       "    .dataframe tbody tr th {\n",
       "        vertical-align: top;\n",
       "    }\n",
       "\n",
       "    .dataframe thead th {\n",
       "        text-align: right;\n",
       "    }\n",
       "</style>\n",
       "<table border=\"1\" class=\"dataframe\">\n",
       "  <thead>\n",
       "    <tr style=\"text-align: right;\">\n",
       "      <th></th>\n",
       "      <th>churn_Yes</th>\n",
       "    </tr>\n",
       "  </thead>\n",
       "  <tbody>\n",
       "    <tr>\n",
       "      <th>count</th>\n",
       "      <td>4225.000000</td>\n",
       "    </tr>\n",
       "    <tr>\n",
       "      <th>mean</th>\n",
       "      <td>0.265325</td>\n",
       "    </tr>\n",
       "    <tr>\n",
       "      <th>std</th>\n",
       "      <td>0.441559</td>\n",
       "    </tr>\n",
       "    <tr>\n",
       "      <th>min</th>\n",
       "      <td>0.000000</td>\n",
       "    </tr>\n",
       "    <tr>\n",
       "      <th>25%</th>\n",
       "      <td>0.000000</td>\n",
       "    </tr>\n",
       "    <tr>\n",
       "      <th>50%</th>\n",
       "      <td>0.000000</td>\n",
       "    </tr>\n",
       "    <tr>\n",
       "      <th>75%</th>\n",
       "      <td>1.000000</td>\n",
       "    </tr>\n",
       "    <tr>\n",
       "      <th>max</th>\n",
       "      <td>1.000000</td>\n",
       "    </tr>\n",
       "  </tbody>\n",
       "</table>\n",
       "</div>"
      ],
      "text/plain": [
       "         churn_Yes\n",
       "count  4225.000000\n",
       "mean      0.265325\n",
       "std       0.441559\n",
       "min       0.000000\n",
       "25%       0.000000\n",
       "50%       0.000000\n",
       "75%       1.000000\n",
       "max       1.000000"
      ]
     },
     "execution_count": 25,
     "metadata": {},
     "output_type": "execute_result"
    }
   ],
   "source": [
    "y_train.describe()"
   ]
  },
  {
   "cell_type": "code",
   "execution_count": 26,
   "id": "33c8f0d2",
   "metadata": {},
   "outputs": [
    {
     "data": {
      "text/html": [
       "<div>\n",
       "<style scoped>\n",
       "    .dataframe tbody tr th:only-of-type {\n",
       "        vertical-align: middle;\n",
       "    }\n",
       "\n",
       "    .dataframe tbody tr th {\n",
       "        vertical-align: top;\n",
       "    }\n",
       "\n",
       "    .dataframe thead th {\n",
       "        text-align: right;\n",
       "    }\n",
       "</style>\n",
       "<table border=\"1\" class=\"dataframe\">\n",
       "  <thead>\n",
       "    <tr style=\"text-align: right;\">\n",
       "      <th></th>\n",
       "      <th>gender_Male</th>\n",
       "      <th>senior_citizen_Yes</th>\n",
       "      <th>partner_Yes</th>\n",
       "      <th>dependents_Yes</th>\n",
       "      <th>churn_Yes</th>\n",
       "    </tr>\n",
       "  </thead>\n",
       "  <tbody>\n",
       "    <tr>\n",
       "      <th>count</th>\n",
       "      <td>4225.000000</td>\n",
       "      <td>4225.000000</td>\n",
       "      <td>4225.000000</td>\n",
       "      <td>4225.000000</td>\n",
       "      <td>4225.000000</td>\n",
       "    </tr>\n",
       "    <tr>\n",
       "      <th>mean</th>\n",
       "      <td>0.508639</td>\n",
       "      <td>0.161893</td>\n",
       "      <td>0.488521</td>\n",
       "      <td>0.306272</td>\n",
       "      <td>0.265325</td>\n",
       "    </tr>\n",
       "    <tr>\n",
       "      <th>std</th>\n",
       "      <td>0.499985</td>\n",
       "      <td>0.368397</td>\n",
       "      <td>0.499927</td>\n",
       "      <td>0.460999</td>\n",
       "      <td>0.441559</td>\n",
       "    </tr>\n",
       "    <tr>\n",
       "      <th>min</th>\n",
       "      <td>0.000000</td>\n",
       "      <td>0.000000</td>\n",
       "      <td>0.000000</td>\n",
       "      <td>0.000000</td>\n",
       "      <td>0.000000</td>\n",
       "    </tr>\n",
       "    <tr>\n",
       "      <th>25%</th>\n",
       "      <td>0.000000</td>\n",
       "      <td>0.000000</td>\n",
       "      <td>0.000000</td>\n",
       "      <td>0.000000</td>\n",
       "      <td>0.000000</td>\n",
       "    </tr>\n",
       "    <tr>\n",
       "      <th>50%</th>\n",
       "      <td>1.000000</td>\n",
       "      <td>0.000000</td>\n",
       "      <td>0.000000</td>\n",
       "      <td>0.000000</td>\n",
       "      <td>0.000000</td>\n",
       "    </tr>\n",
       "    <tr>\n",
       "      <th>75%</th>\n",
       "      <td>1.000000</td>\n",
       "      <td>0.000000</td>\n",
       "      <td>1.000000</td>\n",
       "      <td>1.000000</td>\n",
       "      <td>1.000000</td>\n",
       "    </tr>\n",
       "    <tr>\n",
       "      <th>max</th>\n",
       "      <td>1.000000</td>\n",
       "      <td>1.000000</td>\n",
       "      <td>1.000000</td>\n",
       "      <td>1.000000</td>\n",
       "      <td>1.000000</td>\n",
       "    </tr>\n",
       "  </tbody>\n",
       "</table>\n",
       "</div>"
      ],
      "text/plain": [
       "       gender_Male  senior_citizen_Yes  partner_Yes  dependents_Yes  \\\n",
       "count  4225.000000         4225.000000  4225.000000     4225.000000   \n",
       "mean      0.508639            0.161893     0.488521        0.306272   \n",
       "std       0.499985            0.368397     0.499927        0.460999   \n",
       "min       0.000000            0.000000     0.000000        0.000000   \n",
       "25%       0.000000            0.000000     0.000000        0.000000   \n",
       "50%       1.000000            0.000000     0.000000        0.000000   \n",
       "75%       1.000000            0.000000     1.000000        1.000000   \n",
       "max       1.000000            1.000000     1.000000        1.000000   \n",
       "\n",
       "         churn_Yes  \n",
       "count  4225.000000  \n",
       "mean      0.265325  \n",
       "std       0.441559  \n",
       "min       0.000000  \n",
       "25%       0.000000  \n",
       "50%       0.000000  \n",
       "75%       1.000000  \n",
       "max       1.000000  "
      ]
     },
     "execution_count": 26,
     "metadata": {},
     "output_type": "execute_result"
    }
   ],
   "source": [
    "X_train.describe()"
   ]
  },
  {
   "cell_type": "markdown",
   "id": "ff11a981",
   "metadata": {},
   "source": [
    "## Explore\n",
    "\n",
    "#### Answer the following initial questions:\n"
   ]
  },
  {
   "cell_type": "code",
   "execution_count": 7,
   "id": "44ba1309",
   "metadata": {},
   "outputs": [
    {
     "data": {
      "image/png": "[encoded data removed]",
      "text/plain": [
       "<Figure size 640x480 with 1 Axes>"
      ]
     },
     "metadata": {},
     "output_type": "display_data"
    }
   ],
   "source": [
    "# Is one gender more likely to affect churn than the other?\n",
    "\n",
    "sns.barplot(x = X_train.gender_Male , y = y_train.churn_Yes, data=df)\n",
    "\n",
    "# Add labels and title\n",
    "plt.ylabel('Churn (1 = Yes, 0 = No)')\n",
    "plt.title('Barplot of Gender and Churn')\n",
    "\n",
    "# Show the plot\n",
    "plt.show()"
   ]
  },
  {
   "cell_type": "code",
   "execution_count": 8,
   "id": "70830aa3",
   "metadata": {},
   "outputs": [
    {
     "data": {
      "image/png": "[encoded data removed]",
      "text/plain": [
       "<Figure size 640x480 with 1 Axes>"
      ]
     },
     "metadata": {},
     "output_type": "display_data"
    }
   ],
   "source": [
    "# Are senior citizens more likely to churn?\n",
    "\n",
    "sns.barplot(X_train.senior_citizen_Yes, y_train.churn_Yes, data=df)\n",
    "\n",
    "# Add labels and title\n",
    "plt.ylabel('Churn (1 = Yes, 0 = No)')\n",
    "plt.title('Barplot of Senior Citizens and Churn')\n",
    "\n",
    "# Show the plot\n",
    "plt.show()"
   ]
  },
  {
   "cell_type": "code",
   "execution_count": 9,
   "id": "f8d1018f",
   "metadata": {},
   "outputs": [
    {
     "data": {
      "image/png": "[encoded data removed]",
      "text/plain": [
       "<Figure size 640x480 with 1 Axes>"
      ]
     },
     "metadata": {},
     "output_type": "display_data"
    }
   ],
   "source": [
    "# Do people with dependents churn more?\n",
    "\n",
    "sns.barplot(X_train.partner_Yes, y_train.churn_Yes, data=df)\n",
    "\n",
    "# Add labels and title\n",
    "plt.ylabel('Churn (1 = Yes, 0 = No)')\n",
    "plt.title('Barplot of Partners and Churn')\n",
    "\n",
    "# Show the plot\n",
    "plt.show()"
   ]
  },
  {
   "cell_type": "code",
   "execution_count": 10,
   "id": "1d86d8bf",
   "metadata": {},
   "outputs": [
    {
     "data": {
      "image/png": "[encoded data removed]",
      "text/plain": [
       "<Figure size 640x480 with 1 Axes>"
      ]
     },
     "metadata": {},
     "output_type": "display_data"
    }
   ],
   "source": [
    "# Do people with partners churn more?\n",
    "\n",
    "sns.barplot(X_train.dependents_Yes, y_train.churn_Yes)\n",
    "\n",
    "# Add labels and title\n",
    "plt.ylabel('Churn (1 = Yes, 0 = No)')\n",
    "plt.title('Barplot of Dependents and Churn')\n",
    "\n",
    "# Show the plot\n",
    "plt.show()"
   ]
  },
  {
   "cell_type": "markdown",
   "id": "4ed24af2",
   "metadata": {},
   "source": [
    "## Exploration Summary\n",
    "\n",
    "    - Gender doesn't seem to be strongly associated with churn\n",
    "    - There is a stronger relationship between churn and whether the customers have children, and/or partners\n",
    "    \n",
    "## Modeling\n",
    "\n",
    "    - I will use accuracy as my evaluation metric\n",
    "    - My baseline accuracy was 73%\n",
    "    - I was able to achieve an accuracy of 78%\n",
    "    \n",
    "## Decision Tree"
   ]
  },
  {
   "cell_type": "code",
   "execution_count": 11,
   "id": "4ce7d5fd",
   "metadata": {},
   "outputs": [
    {
     "data": {
      "text/plain": [
       "0.7253371185237757"
      ]
     },
     "execution_count": 11,
     "metadata": {},
     "output_type": "execute_result"
    }
   ],
   "source": [
    "tree = DecisionTreeClassifier()\n",
    "tree.fit(X_train, y_train)\n",
    "tree.score(X_train, y_train)\n",
    "tree.score(X_validate, y_validate)"
   ]
  },
  {
   "cell_type": "code",
   "execution_count": 12,
   "id": "dc05c3b3",
   "metadata": {},
   "outputs": [
    {
     "name": "stdout",
     "output_type": "stream",
     "text": [
      "for depth of  1, the train accuracy is 0.73\n",
      "for depth of  1, the validate accuracy is 0.73\n",
      "\n",
      "for depth of  2, the train accuracy is 0.79\n",
      "for depth of  2, the validate accuracy is 0.79\n",
      "\n",
      "for depth of  3, the train accuracy is 0.79\n",
      "for depth of  3, the validate accuracy is 0.79\n",
      "\n",
      "for depth of  4, the train accuracy is 0.79\n",
      "for depth of  4, the validate accuracy is 0.8\n",
      "\n",
      "for depth of  5, the train accuracy is 0.8\n",
      "for depth of  5, the validate accuracy is 0.79\n",
      "\n",
      "for depth of  6, the train accuracy is 0.81\n",
      "for depth of  6, the validate accuracy is 0.79\n",
      "\n",
      "for depth of  7, the train accuracy is 0.82\n",
      "for depth of  7, the validate accuracy is 0.79\n",
      "\n",
      "for depth of  8, the train accuracy is 0.84\n",
      "for depth of  8, the validate accuracy is 0.78\n",
      "\n"
     ]
    }
   ],
   "source": [
    "for x in range(1,9):\n",
    "#     print(x)\n",
    "    tree = DecisionTreeClassifier(max_depth=x)\n",
    "    tree.fit(X_train, y_train)\n",
    "    acc = tree.score(X_train, y_train)\n",
    "    val = tree.score(X_validate, y_validate)\n",
    "    print(f'for depth of {x:2}, the train accuracy is {round(acc,2)}')\n",
    "    print(f'for depth of {x:2}, the validate accuracy is {round(val,2)}')\n",
    "    print()"
   ]
  },
  {
   "cell_type": "markdown",
   "id": "e4244e96",
   "metadata": {},
   "source": [
    "## Random Forest"
   ]
  },
  {
   "cell_type": "code",
   "execution_count": 13,
   "id": "b57b76f6",
   "metadata": {},
   "outputs": [
    {
     "data": {
      "text/plain": [
       "0.7906316536550745"
      ]
     },
     "execution_count": 13,
     "metadata": {},
     "output_type": "execute_result"
    }
   ],
   "source": [
    "tree = RandomForestClassifier()\n",
    "tree.fit(X_train, y_train)\n",
    "tree.score(X_train, y_train)\n",
    "tree.score(X_validate, y_validate)"
   ]
  },
  {
   "cell_type": "code",
   "execution_count": 14,
   "id": "5d4458c0",
   "metadata": {},
   "outputs": [
    {
     "name": "stdout",
     "output_type": "stream",
     "text": [
      "for depth of  1, the train accuracy is 0.73\n",
      "for depth of  1, the validate accuracy is 0.73\n",
      "\n",
      "for depth of  2, the train accuracy is 0.76\n",
      "for depth of  2, the validate accuracy is 0.75\n",
      "\n",
      "for depth of  3, the train accuracy is 0.78\n",
      "for depth of  3, the validate accuracy is 0.79\n",
      "\n",
      "for depth of  4, the train accuracy is 0.79\n",
      "for depth of  4, the validate accuracy is 0.8\n",
      "\n",
      "for depth of  5, the train accuracy is 0.8\n",
      "for depth of  5, the validate accuracy is 0.81\n",
      "\n",
      "for depth of  6, the train accuracy is 0.81\n",
      "for depth of  6, the validate accuracy is 0.81\n",
      "\n",
      "for depth of  7, the train accuracy is 0.82\n",
      "for depth of  7, the validate accuracy is 0.8\n",
      "\n",
      "for depth of  8, the train accuracy is 0.84\n",
      "for depth of  8, the validate accuracy is 0.8\n",
      "\n"
     ]
    }
   ],
   "source": [
    "for x in range(1,9):\n",
    "#     print(x)\n",
    "    tree = RandomForestClassifier(max_depth=x)\n",
    "    tree.fit(X_train, y_train)\n",
    "    acc = tree.score(X_train, y_train)\n",
    "    val = tree.score(X_validate, y_validate)\n",
    "    print(f'for depth of {x:2}, the train accuracy is {round(acc,2)}')\n",
    "    print(f'for depth of {x:2}, the validate accuracy is {round(val,2)}')\n",
    "    print()"
   ]
  },
  {
   "cell_type": "markdown",
   "id": "226316f0",
   "metadata": {},
   "source": [
    "## Comparing Models\n",
    "\n",
    "Decision Tree and Random Forest at a depth of 7 to 8 performed about better than baseline and at that depth approximated my baseline accuracy \n",
    "    \n",
    "# Conclusions\n",
    "\n",
    "### Exploration\n",
    "\n",
    "Gender doesn't seem to be strongly associated with churn. There is a stronger relationship between churn and whether the customers are senior citizents, have children, and/or partners.\n",
    "\n",
    "### Modeling\n",
    "\n",
    "The final model signinficantly outperformed the baseline\n",
    "\n",
    "### Recommendations \n",
    "\n",
    "Offer discounts to senior citizens to reduce churn, and family bundle discounts to fortify the lower churn rate of those with partners and dependents.\n",
    "\n",
    "### Next Steps\n",
    "\n",
    "Do additional analysis comparing combinations of features to find the highest combinations of churn."
   ]
  }
 ],
 "metadata": {
  "kernelspec": {
   "display_name": "Python 3 (ipykernel)",
   "language": "python",
   "name": "python3"
  },
  "language_info": {
   "codemirror_mode": {
    "name": "ipython",
    "version": 3
   },
   "file_extension": ".py",
   "mimetype": "text/x-python",
   "name": "python",
   "nbconvert_exporter": "python",
   "pygments_lexer": "ipython3",
   "version": "3.9.13"
  }
 },
 "nbformat": 4,
 "nbformat_minor": 5
}
