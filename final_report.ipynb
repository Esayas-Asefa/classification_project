{
 "cells": [
  {
   "cell_type": "markdown",
   "id": "89017995",
   "metadata": {},
   "source": [
    "# Churn\n",
    "\n",
    "## Goal:\n",
    "\n",
    "- Discover drivers of churn in Telco\n",
    "- Use drivers to develop programs to retain clients."
   ]
  },
  {
   "cell_type": "markdown",
   "id": "1e375381",
   "metadata": {},
   "source": [
    "# Imports"
   ]
  },
  {
   "cell_type": "code",
   "execution_count": 1,
   "id": "ac29bbfd",
   "metadata": {},
   "outputs": [],
   "source": [
    "import pandas as pd\n",
    "from scipy import stats\n",
    "import wrangle as acq\n",
    "import numpy as np\n",
    "import matplotlib.pyplot as plt\n",
    "import seaborn as sns\n",
    "from pydataset import data\n",
    "from sklearn.model_selection import train_test_split\n",
    "from sklearn.metrics import recall_score\n",
    "from sklearn.tree import DecisionTreeClassifier, plot_tree\n",
    "import matplotlib.pyplot as plt\n",
    "from termcolor import colored\n",
    "from sklearn.metrics import precision_score\n",
    "from sklearn.metrics import accuracy_score\n",
    "from sklearn.metrics import recall_score\n",
    "from sklearn.ensemble import RandomForestClassifier\n",
    "from sklearn.linear_model import LogisticRegression\n",
    "import warnings\n",
    "warnings.filterwarnings('ignore')\n",
    "\n",
    "from io import StringIO"
   ]
  },
  {
   "cell_type": "markdown",
   "id": "92a337c6",
   "metadata": {},
   "source": [
    "# Acquire\n",
    "\n",
    "- Data acquired from Codeup Database\n",
    "- It contained 7043 rows and 31 columns before cleaning\n",
    "- Each row represents a client from the customer database.\n",
    "- Each column represents a feature of those customers\n",
    "\n",
    "# Prepare\n",
    "\n",
    "Prepare Actions:\n",
    "\n",
    "\n",
    "Checked for nulls in the data (there were none)\n",
    "Removed rows with nulls\n",
    "Split data into train test validate"
   ]
  },
  {
   "cell_type": "code",
   "execution_count": 2,
   "id": "18247228",
   "metadata": {},
   "outputs": [
    {
     "name": "stdout",
     "output_type": "stream",
     "text": [
      "csv file found and loaded\n"
     ]
    }
   ],
   "source": [
    "# acquiring, cleaning, and adding features to data\n",
    "df = acq.prep_telco()\n",
    "\n",
    "#Split dataset into two components\n",
    "X, Y = acq.split_my_data(df)\n",
    "\n",
    "# splitting data into train, validate, and test\n",
    "X_train, X_validate, X_test, y_train, y_validate, y_test = acq.train_validate_test_split(X, Y)"
   ]
  },
  {
   "cell_type": "code",
   "execution_count": 3,
   "id": "bf135129",
   "metadata": {},
   "outputs": [
    {
     "data": {
      "text/html": [
       "<div>\n",
       "<style scoped>\n",
       "    .dataframe tbody tr th:only-of-type {\n",
       "        vertical-align: middle;\n",
       "    }\n",
       "\n",
       "    .dataframe tbody tr th {\n",
       "        vertical-align: top;\n",
       "    }\n",
       "\n",
       "    .dataframe thead th {\n",
       "        text-align: right;\n",
       "    }\n",
       "</style>\n",
       "<table border=\"1\" class=\"dataframe\">\n",
       "  <thead>\n",
       "    <tr style=\"text-align: right;\">\n",
       "      <th></th>\n",
       "      <th>tenure</th>\n",
       "      <th>monthly_charges</th>\n",
       "      <th>total_charges</th>\n",
       "      <th>gender_Male</th>\n",
       "      <th>senior_citizen_Yes</th>\n",
       "      <th>partner_Yes</th>\n",
       "      <th>dependents_Yes</th>\n",
       "      <th>phone_service_Yes</th>\n",
       "      <th>multiple_lines_No phone service</th>\n",
       "      <th>multiple_lines_Yes</th>\n",
       "      <th>...</th>\n",
       "      <th>streaming_movies_Yes</th>\n",
       "      <th>paperless_billing_Yes</th>\n",
       "      <th>churn_Yes</th>\n",
       "      <th>contract_type_One year</th>\n",
       "      <th>contract_type_Two year</th>\n",
       "      <th>internet_service_type_Fiber optic</th>\n",
       "      <th>internet_service_type_None</th>\n",
       "      <th>payment_type_Credit card (automatic)</th>\n",
       "      <th>payment_type_Electronic check</th>\n",
       "      <th>payment_type_Mailed check</th>\n",
       "    </tr>\n",
       "  </thead>\n",
       "  <tbody>\n",
       "    <tr>\n",
       "      <th>0</th>\n",
       "      <td>9</td>\n",
       "      <td>65.6</td>\n",
       "      <td>593.30</td>\n",
       "      <td>0</td>\n",
       "      <td>0</td>\n",
       "      <td>1</td>\n",
       "      <td>1</td>\n",
       "      <td>1</td>\n",
       "      <td>0</td>\n",
       "      <td>0</td>\n",
       "      <td>...</td>\n",
       "      <td>0</td>\n",
       "      <td>1</td>\n",
       "      <td>0</td>\n",
       "      <td>1</td>\n",
       "      <td>0</td>\n",
       "      <td>0</td>\n",
       "      <td>0</td>\n",
       "      <td>0</td>\n",
       "      <td>0</td>\n",
       "      <td>1</td>\n",
       "    </tr>\n",
       "    <tr>\n",
       "      <th>1</th>\n",
       "      <td>9</td>\n",
       "      <td>59.9</td>\n",
       "      <td>542.40</td>\n",
       "      <td>1</td>\n",
       "      <td>0</td>\n",
       "      <td>0</td>\n",
       "      <td>0</td>\n",
       "      <td>1</td>\n",
       "      <td>0</td>\n",
       "      <td>1</td>\n",
       "      <td>...</td>\n",
       "      <td>1</td>\n",
       "      <td>0</td>\n",
       "      <td>0</td>\n",
       "      <td>0</td>\n",
       "      <td>0</td>\n",
       "      <td>0</td>\n",
       "      <td>0</td>\n",
       "      <td>0</td>\n",
       "      <td>0</td>\n",
       "      <td>1</td>\n",
       "    </tr>\n",
       "    <tr>\n",
       "      <th>2</th>\n",
       "      <td>4</td>\n",
       "      <td>73.9</td>\n",
       "      <td>280.85</td>\n",
       "      <td>1</td>\n",
       "      <td>0</td>\n",
       "      <td>0</td>\n",
       "      <td>0</td>\n",
       "      <td>1</td>\n",
       "      <td>0</td>\n",
       "      <td>0</td>\n",
       "      <td>...</td>\n",
       "      <td>0</td>\n",
       "      <td>1</td>\n",
       "      <td>1</td>\n",
       "      <td>0</td>\n",
       "      <td>0</td>\n",
       "      <td>1</td>\n",
       "      <td>0</td>\n",
       "      <td>0</td>\n",
       "      <td>1</td>\n",
       "      <td>0</td>\n",
       "    </tr>\n",
       "    <tr>\n",
       "      <th>3</th>\n",
       "      <td>13</td>\n",
       "      <td>98.0</td>\n",
       "      <td>1237.85</td>\n",
       "      <td>1</td>\n",
       "      <td>1</td>\n",
       "      <td>1</td>\n",
       "      <td>0</td>\n",
       "      <td>1</td>\n",
       "      <td>0</td>\n",
       "      <td>0</td>\n",
       "      <td>...</td>\n",
       "      <td>1</td>\n",
       "      <td>1</td>\n",
       "      <td>1</td>\n",
       "      <td>0</td>\n",
       "      <td>0</td>\n",
       "      <td>1</td>\n",
       "      <td>0</td>\n",
       "      <td>0</td>\n",
       "      <td>1</td>\n",
       "      <td>0</td>\n",
       "    </tr>\n",
       "    <tr>\n",
       "      <th>4</th>\n",
       "      <td>3</td>\n",
       "      <td>83.9</td>\n",
       "      <td>267.40</td>\n",
       "      <td>0</td>\n",
       "      <td>1</td>\n",
       "      <td>1</td>\n",
       "      <td>0</td>\n",
       "      <td>1</td>\n",
       "      <td>0</td>\n",
       "      <td>0</td>\n",
       "      <td>...</td>\n",
       "      <td>0</td>\n",
       "      <td>1</td>\n",
       "      <td>1</td>\n",
       "      <td>0</td>\n",
       "      <td>0</td>\n",
       "      <td>1</td>\n",
       "      <td>0</td>\n",
       "      <td>0</td>\n",
       "      <td>0</td>\n",
       "      <td>1</td>\n",
       "    </tr>\n",
       "  </tbody>\n",
       "</table>\n",
       "<p>5 rows × 31 columns</p>\n",
       "</div>"
      ],
      "text/plain": [
       "   tenure  monthly_charges  total_charges  gender_Male  senior_citizen_Yes  \\\n",
       "0       9             65.6         593.30            0                   0   \n",
       "1       9             59.9         542.40            1                   0   \n",
       "2       4             73.9         280.85            1                   0   \n",
       "3      13             98.0        1237.85            1                   1   \n",
       "4       3             83.9         267.40            0                   1   \n",
       "\n",
       "   partner_Yes  dependents_Yes  phone_service_Yes  \\\n",
       "0            1               1                  1   \n",
       "1            0               0                  1   \n",
       "2            0               0                  1   \n",
       "3            1               0                  1   \n",
       "4            1               0                  1   \n",
       "\n",
       "   multiple_lines_No phone service  multiple_lines_Yes  ...  \\\n",
       "0                                0                   0  ...   \n",
       "1                                0                   1  ...   \n",
       "2                                0                   0  ...   \n",
       "3                                0                   0  ...   \n",
       "4                                0                   0  ...   \n",
       "\n",
       "   streaming_movies_Yes  paperless_billing_Yes  churn_Yes  \\\n",
       "0                     0                      1          0   \n",
       "1                     1                      0          0   \n",
       "2                     0                      1          1   \n",
       "3                     1                      1          1   \n",
       "4                     0                      1          1   \n",
       "\n",
       "   contract_type_One year  contract_type_Two year  \\\n",
       "0                       1                       0   \n",
       "1                       0                       0   \n",
       "2                       0                       0   \n",
       "3                       0                       0   \n",
       "4                       0                       0   \n",
       "\n",
       "   internet_service_type_Fiber optic  internet_service_type_None  \\\n",
       "0                                  0                           0   \n",
       "1                                  0                           0   \n",
       "2                                  1                           0   \n",
       "3                                  1                           0   \n",
       "4                                  1                           0   \n",
       "\n",
       "   payment_type_Credit card (automatic)  payment_type_Electronic check  \\\n",
       "0                                     0                              0   \n",
       "1                                     0                              0   \n",
       "2                                     0                              1   \n",
       "3                                     0                              1   \n",
       "4                                     0                              0   \n",
       "\n",
       "   payment_type_Mailed check  \n",
       "0                          1  \n",
       "1                          1  \n",
       "2                          0  \n",
       "3                          0  \n",
       "4                          1  \n",
       "\n",
       "[5 rows x 31 columns]"
      ]
     },
     "execution_count": 3,
     "metadata": {},
     "output_type": "execute_result"
    }
   ],
   "source": [
    "df.head()"
   ]
  },
  {
   "cell_type": "markdown",
   "id": "02391b4a",
   "metadata": {},
   "source": [
    "## A brief look at the data"
   ]
  },
  {
   "cell_type": "code",
   "execution_count": 4,
   "id": "f1c93b85",
   "metadata": {},
   "outputs": [
    {
     "data": {
      "text/html": [
       "<div>\n",
       "<style scoped>\n",
       "    .dataframe tbody tr th:only-of-type {\n",
       "        vertical-align: middle;\n",
       "    }\n",
       "\n",
       "    .dataframe tbody tr th {\n",
       "        vertical-align: top;\n",
       "    }\n",
       "\n",
       "    .dataframe thead th {\n",
       "        text-align: right;\n",
       "    }\n",
       "</style>\n",
       "<table border=\"1\" class=\"dataframe\">\n",
       "  <thead>\n",
       "    <tr style=\"text-align: right;\">\n",
       "      <th></th>\n",
       "      <th>gender_Male</th>\n",
       "      <th>senior_citizen_Yes</th>\n",
       "      <th>partner_Yes</th>\n",
       "      <th>dependents_Yes</th>\n",
       "    </tr>\n",
       "  </thead>\n",
       "  <tbody>\n",
       "    <tr>\n",
       "      <th>5911</th>\n",
       "      <td>1</td>\n",
       "      <td>0</td>\n",
       "      <td>0</td>\n",
       "      <td>1</td>\n",
       "    </tr>\n",
       "    <tr>\n",
       "      <th>2479</th>\n",
       "      <td>0</td>\n",
       "      <td>0</td>\n",
       "      <td>1</td>\n",
       "      <td>0</td>\n",
       "    </tr>\n",
       "    <tr>\n",
       "      <th>5889</th>\n",
       "      <td>0</td>\n",
       "      <td>0</td>\n",
       "      <td>0</td>\n",
       "      <td>0</td>\n",
       "    </tr>\n",
       "    <tr>\n",
       "      <th>6087</th>\n",
       "      <td>1</td>\n",
       "      <td>0</td>\n",
       "      <td>0</td>\n",
       "      <td>0</td>\n",
       "    </tr>\n",
       "    <tr>\n",
       "      <th>785</th>\n",
       "      <td>0</td>\n",
       "      <td>0</td>\n",
       "      <td>0</td>\n",
       "      <td>0</td>\n",
       "    </tr>\n",
       "  </tbody>\n",
       "</table>\n",
       "</div>"
      ],
      "text/plain": [
       "      gender_Male  senior_citizen_Yes  partner_Yes  dependents_Yes\n",
       "5911            1                   0            0               1\n",
       "2479            0                   0            1               0\n",
       "5889            0                   0            0               0\n",
       "6087            1                   0            0               0\n",
       "785             0                   0            0               0"
      ]
     },
     "execution_count": 4,
     "metadata": {},
     "output_type": "execute_result"
    }
   ],
   "source": [
    "X_train.head()"
   ]
  },
  {
   "cell_type": "markdown",
   "id": "78f43876",
   "metadata": {},
   "source": [
    "## A summary of the data"
   ]
  },
  {
   "cell_type": "code",
   "execution_count": 5,
   "id": "03caf4b4",
   "metadata": {},
   "outputs": [
    {
     "data": {
      "text/html": [
       "<div>\n",
       "<style scoped>\n",
       "    .dataframe tbody tr th:only-of-type {\n",
       "        vertical-align: middle;\n",
       "    }\n",
       "\n",
       "    .dataframe tbody tr th {\n",
       "        vertical-align: top;\n",
       "    }\n",
       "\n",
       "    .dataframe thead th {\n",
       "        text-align: right;\n",
       "    }\n",
       "</style>\n",
       "<table border=\"1\" class=\"dataframe\">\n",
       "  <thead>\n",
       "    <tr style=\"text-align: right;\">\n",
       "      <th></th>\n",
       "      <th>churn_Yes</th>\n",
       "    </tr>\n",
       "  </thead>\n",
       "  <tbody>\n",
       "    <tr>\n",
       "      <th>count</th>\n",
       "      <td>4225.000000</td>\n",
       "    </tr>\n",
       "    <tr>\n",
       "      <th>mean</th>\n",
       "      <td>0.265325</td>\n",
       "    </tr>\n",
       "    <tr>\n",
       "      <th>std</th>\n",
       "      <td>0.441559</td>\n",
       "    </tr>\n",
       "    <tr>\n",
       "      <th>min</th>\n",
       "      <td>0.000000</td>\n",
       "    </tr>\n",
       "    <tr>\n",
       "      <th>25%</th>\n",
       "      <td>0.000000</td>\n",
       "    </tr>\n",
       "    <tr>\n",
       "      <th>50%</th>\n",
       "      <td>0.000000</td>\n",
       "    </tr>\n",
       "    <tr>\n",
       "      <th>75%</th>\n",
       "      <td>1.000000</td>\n",
       "    </tr>\n",
       "    <tr>\n",
       "      <th>max</th>\n",
       "      <td>1.000000</td>\n",
       "    </tr>\n",
       "  </tbody>\n",
       "</table>\n",
       "</div>"
      ],
      "text/plain": [
       "         churn_Yes\n",
       "count  4225.000000\n",
       "mean      0.265325\n",
       "std       0.441559\n",
       "min       0.000000\n",
       "25%       0.000000\n",
       "50%       0.000000\n",
       "75%       1.000000\n",
       "max       1.000000"
      ]
     },
     "execution_count": 5,
     "metadata": {},
     "output_type": "execute_result"
    }
   ],
   "source": [
    "y_train.describe()"
   ]
  },
  {
   "cell_type": "code",
   "execution_count": 6,
   "id": "33c8f0d2",
   "metadata": {
    "scrolled": true
   },
   "outputs": [
    {
     "data": {
      "text/html": [
       "<div>\n",
       "<style scoped>\n",
       "    .dataframe tbody tr th:only-of-type {\n",
       "        vertical-align: middle;\n",
       "    }\n",
       "\n",
       "    .dataframe tbody tr th {\n",
       "        vertical-align: top;\n",
       "    }\n",
       "\n",
       "    .dataframe thead th {\n",
       "        text-align: right;\n",
       "    }\n",
       "</style>\n",
       "<table border=\"1\" class=\"dataframe\">\n",
       "  <thead>\n",
       "    <tr style=\"text-align: right;\">\n",
       "      <th></th>\n",
       "      <th>gender_Male</th>\n",
       "      <th>senior_citizen_Yes</th>\n",
       "      <th>partner_Yes</th>\n",
       "      <th>dependents_Yes</th>\n",
       "    </tr>\n",
       "  </thead>\n",
       "  <tbody>\n",
       "    <tr>\n",
       "      <th>count</th>\n",
       "      <td>4225.000000</td>\n",
       "      <td>4225.000000</td>\n",
       "      <td>4225.000000</td>\n",
       "      <td>4225.000000</td>\n",
       "    </tr>\n",
       "    <tr>\n",
       "      <th>mean</th>\n",
       "      <td>0.508639</td>\n",
       "      <td>0.161893</td>\n",
       "      <td>0.488521</td>\n",
       "      <td>0.306272</td>\n",
       "    </tr>\n",
       "    <tr>\n",
       "      <th>std</th>\n",
       "      <td>0.499985</td>\n",
       "      <td>0.368397</td>\n",
       "      <td>0.499927</td>\n",
       "      <td>0.460999</td>\n",
       "    </tr>\n",
       "    <tr>\n",
       "      <th>min</th>\n",
       "      <td>0.000000</td>\n",
       "      <td>0.000000</td>\n",
       "      <td>0.000000</td>\n",
       "      <td>0.000000</td>\n",
       "    </tr>\n",
       "    <tr>\n",
       "      <th>25%</th>\n",
       "      <td>0.000000</td>\n",
       "      <td>0.000000</td>\n",
       "      <td>0.000000</td>\n",
       "      <td>0.000000</td>\n",
       "    </tr>\n",
       "    <tr>\n",
       "      <th>50%</th>\n",
       "      <td>1.000000</td>\n",
       "      <td>0.000000</td>\n",
       "      <td>0.000000</td>\n",
       "      <td>0.000000</td>\n",
       "    </tr>\n",
       "    <tr>\n",
       "      <th>75%</th>\n",
       "      <td>1.000000</td>\n",
       "      <td>0.000000</td>\n",
       "      <td>1.000000</td>\n",
       "      <td>1.000000</td>\n",
       "    </tr>\n",
       "    <tr>\n",
       "      <th>max</th>\n",
       "      <td>1.000000</td>\n",
       "      <td>1.000000</td>\n",
       "      <td>1.000000</td>\n",
       "      <td>1.000000</td>\n",
       "    </tr>\n",
       "  </tbody>\n",
       "</table>\n",
       "</div>"
      ],
      "text/plain": [
       "       gender_Male  senior_citizen_Yes  partner_Yes  dependents_Yes\n",
       "count  4225.000000         4225.000000  4225.000000     4225.000000\n",
       "mean      0.508639            0.161893     0.488521        0.306272\n",
       "std       0.499985            0.368397     0.499927        0.460999\n",
       "min       0.000000            0.000000     0.000000        0.000000\n",
       "25%       0.000000            0.000000     0.000000        0.000000\n",
       "50%       1.000000            0.000000     0.000000        0.000000\n",
       "75%       1.000000            0.000000     1.000000        1.000000\n",
       "max       1.000000            1.000000     1.000000        1.000000"
      ]
     },
     "execution_count": 6,
     "metadata": {},
     "output_type": "execute_result"
    }
   ],
   "source": [
    "X_train.describe()"
   ]
  },
  {
   "cell_type": "markdown",
   "id": "ff11a981",
   "metadata": {},
   "source": [
    "## Explore\n",
    "\n",
    "#### Answer the following initial questions:\n"
   ]
  },
  {
   "cell_type": "markdown",
   "id": "a6bf82b8",
   "metadata": {},
   "source": [
    "H0: Gender has no impact on churn.\n",
    "\n",
    "Ha: Gender does impact churn."
   ]
  },
  {
   "cell_type": "code",
   "execution_count": 7,
   "id": "46def1e0",
   "metadata": {
    "scrolled": true
   },
   "outputs": [
    {
     "data": {
      "image/png": "[encoded data removed]",
      "text/plain": [
       "<Figure size 640x480 with 1 Axes>"
      ]
     },
     "metadata": {},
     "output_type": "display_data"
    }
   ],
   "source": [
    "acq.plot_gender_churn(X_train, y_train)"
   ]
  },
  {
   "cell_type": "code",
   "execution_count": 8,
   "id": "a00af5ae",
   "metadata": {
    "scrolled": true
   },
   "outputs": [
    {
     "name": "stdout",
     "output_type": "stream",
     "text": [
      "\n"
     ]
    },
    {
     "data": {
      "text/plain": [
       "(0.26001085636614296,\n",
       " 0.6101126964282866,\n",
       " 1,\n",
       " array([[1525.1843787,  550.8156213],\n",
       "        [1578.8156213,  570.1843787]]))"
      ]
     },
     "execution_count": 8,
     "metadata": {},
     "output_type": "execute_result"
    }
   ],
   "source": [
    "observed = pd.crosstab(X_train.gender_Male, y_train.churn_Yes)\n",
    "observed\n",
    "print()\n",
    "chi2, p, degf, expected = stats.chi2_contingency(observed)\n",
    "chi2, p, degf, expected"
   ]
  },
  {
   "cell_type": "markdown",
   "id": "67783f68",
   "metadata": {},
   "source": [
    "H0: Status as senior citizen does not effect churn.\n",
    "\n",
    "Ha: Status as a senior citizen effects churn."
   ]
  },
  {
   "cell_type": "code",
   "execution_count": 9,
   "id": "9d86b410",
   "metadata": {
    "scrolled": true
   },
   "outputs": [
    {
     "data": {
      "image/png": "[encoded data removed]",
      "text/plain": [
       "<Figure size 640x480 with 1 Axes>"
      ]
     },
     "metadata": {},
     "output_type": "display_data"
    }
   ],
   "source": [
    "acq.plot_senior_citizen_Yes_churn(X_train, y_train)"
   ]
  },
  {
   "cell_type": "code",
   "execution_count": 10,
   "id": "8f3037e9",
   "metadata": {
    "scrolled": true
   },
   "outputs": [
    {
     "data": {
      "text/plain": [
       "(80.79361466512287,\n",
       " 2.505662983276272e-19,\n",
       " 1,\n",
       " array([[2601.48260355,  939.51739645],\n",
       "        [ 502.51739645,  181.48260355]]))"
      ]
     },
     "execution_count": 10,
     "metadata": {},
     "output_type": "execute_result"
    }
   ],
   "source": [
    "observed = pd.crosstab(X_train.senior_citizen_Yes, y_train.churn_Yes)\n",
    "observed\n",
    "chi2, p, degf, expected = stats.chi2_contingency(observed)\n",
    "chi2, p, degf, expected"
   ]
  },
  {
   "cell_type": "code",
   "execution_count": null,
   "id": "1643690a",
   "metadata": {},
   "outputs": [],
   "source": [
    "H0: Having a partner does not effect churn.\n",
    "\n",
    "Ha: Having a partner effects churn."
   ]
  },
  {
   "cell_type": "code",
   "execution_count": 11,
   "id": "3e2e8815",
   "metadata": {
    "scrolled": false
   },
   "outputs": [
    {
     "data": {
      "image/png": "[encoded data removed]",
      "text/plain": [
       "<Figure size 640x480 with 1 Axes>"
      ]
     },
     "metadata": {},
     "output_type": "display_data"
    }
   ],
   "source": [
    "acq.plot_partner_Yes_churn(X_train, y_train)"
   ]
  },
  {
   "cell_type": "code",
   "execution_count": 12,
   "id": "86a634dd",
   "metadata": {
    "scrolled": true
   },
   "outputs": [
    {
     "name": "stdout",
     "output_type": "stream",
     "text": [
      "\n"
     ]
    },
    {
     "data": {
      "text/plain": [
       "(106.63124069338238,\n",
       " 5.362120825511991e-25,\n",
       " 1,\n",
       " array([[1587.63171598,  573.36828402],\n",
       "        [1516.36828402,  547.63171598]]))"
      ]
     },
     "execution_count": 12,
     "metadata": {},
     "output_type": "execute_result"
    }
   ],
   "source": [
    "observed = pd.crosstab(X_train.partner_Yes, y_train.churn_Yes)\n",
    "observed\n",
    "print()\n",
    "chi2, p, degf, expected = stats.chi2_contingency(observed)\n",
    "chi2, p, degf, expected"
   ]
  },
  {
   "cell_type": "markdown",
   "id": "5b7ebd64",
   "metadata": {},
   "source": [
    "H0: Having dependents does not impact churn.\n",
    "\n",
    "Ha: Having dependents does impact churn."
   ]
  },
  {
   "cell_type": "code",
   "execution_count": 13,
   "id": "168de589",
   "metadata": {
    "scrolled": true
   },
   "outputs": [
    {
     "data": {
      "image/png": "[encoded data removed]",
      "text/plain": [
       "<Figure size 640x480 with 1 Axes>"
      ]
     },
     "metadata": {},
     "output_type": "display_data"
    }
   ],
   "source": [
    "acq.plot_dependents_Yes_churn(X_train, y_train)"
   ]
  },
  {
   "cell_type": "code",
   "execution_count": 14,
   "id": "b64e6352",
   "metadata": {},
   "outputs": [
    {
     "data": {
      "text/plain": [
       "(111.74045071817625,\n",
       " 4.0728740930257814e-26,\n",
       " 1,\n",
       " array([[2153.33112426,  777.66887574],\n",
       "        [ 950.66887574,  343.33112426]]))"
      ]
     },
     "execution_count": 14,
     "metadata": {},
     "output_type": "execute_result"
    }
   ],
   "source": [
    "observed = pd.crosstab(X_train.dependents_Yes, y_train.churn_Yes)\n",
    "observed\n",
    "chi2, p, degf, expected = stats.chi2_contingency(observed)\n",
    "chi2, p, degf, expected"
   ]
  },
  {
   "cell_type": "markdown",
   "id": "4ed24af2",
   "metadata": {},
   "source": [
    "## Exploration Summary\n",
    "\n",
    "    - Gender alone doesn't have a significant affect on churn\n",
    "    - There is a stronger relationship between churn and whether the customers have children, and/or partners\n",
    "    \n",
    "## Modeling\n",
    "\n",
    "    - I will use accuracy as my evaluation metric\n",
    "    - My baseline accuracy was 73.4%\n",
    "    - I was not able to beat the baseline accuracy of 73.4, only achieving a baseline accuracy of 73% \n",
    "    \n",
    "## Decision Tree"
   ]
  },
  {
   "cell_type": "code",
   "execution_count": 15,
   "id": "9412b909",
   "metadata": {},
   "outputs": [],
   "source": [
    "baseline_accuracy = (y_train.churn_Yes == 0).mean()"
   ]
  },
  {
   "cell_type": "code",
   "execution_count": 16,
   "id": "df4096f6",
   "metadata": {
    "scrolled": true
   },
   "outputs": [
    {
     "name": "stdout",
     "output_type": "stream",
     "text": [
      "for depth of    1, the train accuracy is 0.7347\n",
      "for depth of    1, the validate accuracy is 0.7346\n",
      "0.7346745562130178\n",
      "\n",
      "for depth of    2, the train accuracy is 0.7347\n",
      "for depth of    2, the validate accuracy is 0.7346\n",
      "0.7346745562130178\n",
      "\n",
      "for depth of    3, the train accuracy is 0.7347\n",
      "for depth of    3, the validate accuracy is 0.7346\n",
      "0.7346745562130178\n",
      "\n"
     ]
    }
   ],
   "source": [
    "acq.train_validate_accuracy_dt(X_train, y_train, X_validate, y_validate)"
   ]
  },
  {
   "cell_type": "markdown",
   "id": "e4244e96",
   "metadata": {},
   "source": [
    "## Random Forest"
   ]
  },
  {
   "cell_type": "code",
   "execution_count": 17,
   "id": "68580b00",
   "metadata": {},
   "outputs": [],
   "source": [
    "baseline_accuracy = (y_train.churn_Yes == 0).mean()"
   ]
  },
  {
   "cell_type": "code",
   "execution_count": 20,
   "id": "b57b76f6",
   "metadata": {},
   "outputs": [
    {
     "data": {
      "text/plain": [
       "0.7345635202271115"
      ]
     },
     "execution_count": 20,
     "metadata": {},
     "output_type": "execute_result"
    }
   ],
   "source": [
    "tree = RandomForestClassifier()\n",
    "tree.fit(X_train, y_train)\n",
    "tree.score(X_train, y_train)\n",
    "tree.score(X_validate, y_validate)"
   ]
  },
  {
   "cell_type": "code",
   "execution_count": 19,
   "id": "5d4458c0",
   "metadata": {},
   "outputs": [
    {
     "name": "stdout",
     "output_type": "stream",
     "text": [
      "for depth of  1, the train accuracy is 0.7347\n",
      "for depth of  1, the validate accuracy is 0.7346\n",
      "0.7346745562130178\n",
      "\n",
      "for depth of  2, the train accuracy is 0.7347\n",
      "for depth of  2, the validate accuracy is 0.7346\n",
      "0.7346745562130178\n",
      "\n",
      "for depth of  3, the train accuracy is 0.7347\n",
      "for depth of  3, the validate accuracy is 0.7346\n",
      "0.7346745562130178\n",
      "\n",
      "for depth of  4, the train accuracy is 0.7347\n",
      "for depth of  4, the validate accuracy is 0.7346\n",
      "0.7346745562130178\n",
      "\n"
     ]
    }
   ],
   "source": [
    "acq.train_validate_accuracy_rf(X_train, y_train, X_validate, y_validate)"
   ]
  },
  {
   "cell_type": "markdown",
   "id": "b93f58ea",
   "metadata": {},
   "source": [
    "## KNN"
   ]
  },
  {
   "cell_type": "markdown",
   "id": "226316f0",
   "metadata": {},
   "source": [
    "## Comparing Models\n",
    "\n",
    "Neither DecisionTree nor RandomForest were able to beat my baseline accuracy of 73.4 \n",
    "\n",
    "# Conclusions\n",
    "\n",
    "### Exploration\n",
    "\n",
    "Gender doesn't seem to be strongly associated with churn. There is a stronger relationship between churn and whether the customers are senior citizents, have children, and/or partners.\n",
    "\n",
    "### Modeling\n",
    "\n",
    "The final model signinficantly outperformed the baseline\n",
    "\n",
    "### Recommendations \n",
    "\n",
    "Offer discounts to senior citizens to reduce churn, and family bundle discounts to fortify the lower churn rate of those with partners and dependents.\n",
    "\n",
    "### Next Steps\n",
    "\n",
    "Do additional analysis comparing combinations of features to find the highest combinations of churn."
   ]
  }
 ],
 "metadata": {
  "kernelspec": {
   "display_name": "Python 3 (ipykernel)",
   "language": "python",
   "name": "python3"
  },
  "language_info": {
   "codemirror_mode": {
    "name": "ipython",
    "version": 3
   },
   "file_extension": ".py",
   "mimetype": "text/x-python",
   "name": "python",
   "nbconvert_exporter": "python",
   "pygments_lexer": "ipython3",
   "version": "3.9.13"
  }
 },
 "nbformat": 4,
 "nbformat_minor": 5
}
