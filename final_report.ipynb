{
 "cells": [
  {
   "cell_type": "markdown",
   "id": "89017995",
   "metadata": {},
   "source": [
    "# Churn\n",
    "\n",
    "## Goal:\n",
    "\n",
    "- Discover drivers of churn in Telco\n",
    "- Use drivers to develop programs to retain clients."
   ]
  },
  {
   "cell_type": "markdown",
   "id": "1e375381",
   "metadata": {},
   "source": [
    "# Imports"
   ]
  },
  {
   "cell_type": "code",
   "execution_count": 2,
   "id": "ac29bbfd",
   "metadata": {},
   "outputs": [],
   "source": [
    "import pandas as pd\n",
    "from scipy import stats\n",
    "import wrangle as acq\n",
    "import env\n",
    "import os\n",
    "import numpy as np\n",
    "import matplotlib.pyplot as plt\n",
    "import seaborn as sns\n",
    "from pydataset import data\n",
    "from sklearn.model_selection import train_test_split\n",
    "from sklearn.metrics import recall_score\n",
    "from sklearn.tree import DecisionTreeClassifier, plot_tree\n",
    "from sklearn.metrics import confusion_matrix\n",
    "import matplotlib.pyplot as plt\n",
    "from termcolor import colored\n",
    "from sklearn.metrics import precision_score\n",
    "from sklearn.metrics import accuracy_score\n",
    "from sklearn.metrics import recall_score\n",
    "from sklearn.metrics import classification_report\n",
    "from sklearn.ensemble import RandomForestClassifier\n",
    "from sklearn.linear_model import LogisticRegression\n",
    "import matplotlib.pyplot as plt\n",
    "import warnings\n",
    "warnings.filterwarnings('ignore')\n",
    "\n",
    "from io import StringIO"
   ]
  },
  {
   "cell_type": "markdown",
   "id": "92a337c6",
   "metadata": {},
   "source": [
    "# Acquire\n",
    "\n",
    "- Data acquired from Codeup Database\n",
    "- It contained 7043 rows and 31 columns before cleaning\n",
    "- Each row represents a client from the customer database.\n",
    "- Each column represents a feature of those customers\n",
    "\n",
    "# Prepare\n",
    "\n",
    "Prepare Actions:\n",
    "\n",
    "\n",
    "Checked for nulls in the data (there were none)\n",
    "Removed rows with nulls\n",
    "Split data into train test validate"
   ]
  },
  {
   "cell_type": "code",
   "execution_count": 3,
   "id": "18247228",
   "metadata": {},
   "outputs": [
    {
     "name": "stdout",
     "output_type": "stream",
     "text": [
      "csv file found and loaded\n"
     ]
    }
   ],
   "source": [
    "# acquiring, cleaning, and adding features to data\n",
    "df = acq.prep_telco()\n",
    "\n",
    "#Split dataset into two components\n",
    "X, Y = acq.split_my_data(df)\n",
    "\n",
    "# splitting data into train, validate, and test\n",
    "X_train, X_validate, X_test, y_train, y_validate, y_test = acq.train_validate_test_split(X, Y)"
   ]
  },
  {
   "cell_type": "markdown",
   "id": "02391b4a",
   "metadata": {},
   "source": [
    "## A brief look at the data"
   ]
  },
  {
   "cell_type": "code",
   "execution_count": 4,
   "id": "f1c93b85",
   "metadata": {},
   "outputs": [
    {
     "data": {
      "text/html": [
       "<div>\n",
       "<style scoped>\n",
       "    .dataframe tbody tr th:only-of-type {\n",
       "        vertical-align: middle;\n",
       "    }\n",
       "\n",
       "    .dataframe tbody tr th {\n",
       "        vertical-align: top;\n",
       "    }\n",
       "\n",
       "    .dataframe thead th {\n",
       "        text-align: right;\n",
       "    }\n",
       "</style>\n",
       "<table border=\"1\" class=\"dataframe\">\n",
       "  <thead>\n",
       "    <tr style=\"text-align: right;\">\n",
       "      <th></th>\n",
       "      <th>gender_Male</th>\n",
       "      <th>senior_citizen_Yes</th>\n",
       "      <th>partner_Yes</th>\n",
       "      <th>dependents_Yes</th>\n",
       "    </tr>\n",
       "  </thead>\n",
       "  <tbody>\n",
       "    <tr>\n",
       "      <th>5911</th>\n",
       "      <td>1</td>\n",
       "      <td>0</td>\n",
       "      <td>0</td>\n",
       "      <td>1</td>\n",
       "    </tr>\n",
       "    <tr>\n",
       "      <th>2479</th>\n",
       "      <td>0</td>\n",
       "      <td>0</td>\n",
       "      <td>1</td>\n",
       "      <td>0</td>\n",
       "    </tr>\n",
       "    <tr>\n",
       "      <th>5889</th>\n",
       "      <td>0</td>\n",
       "      <td>0</td>\n",
       "      <td>0</td>\n",
       "      <td>0</td>\n",
       "    </tr>\n",
       "    <tr>\n",
       "      <th>6087</th>\n",
       "      <td>1</td>\n",
       "      <td>0</td>\n",
       "      <td>0</td>\n",
       "      <td>0</td>\n",
       "    </tr>\n",
       "    <tr>\n",
       "      <th>785</th>\n",
       "      <td>0</td>\n",
       "      <td>0</td>\n",
       "      <td>0</td>\n",
       "      <td>0</td>\n",
       "    </tr>\n",
       "  </tbody>\n",
       "</table>\n",
       "</div>"
      ],
      "text/plain": [
       "      gender_Male  senior_citizen_Yes  partner_Yes  dependents_Yes\n",
       "5911            1                   0            0               1\n",
       "2479            0                   0            1               0\n",
       "5889            0                   0            0               0\n",
       "6087            1                   0            0               0\n",
       "785             0                   0            0               0"
      ]
     },
     "execution_count": 4,
     "metadata": {},
     "output_type": "execute_result"
    }
   ],
   "source": [
    "X_train.head()"
   ]
  },
  {
   "cell_type": "markdown",
   "id": "78f43876",
   "metadata": {},
   "source": [
    "## A summary of the data"
   ]
  },
  {
   "cell_type": "code",
   "execution_count": 5,
   "id": "03caf4b4",
   "metadata": {},
   "outputs": [
    {
     "data": {
      "text/html": [
       "<div>\n",
       "<style scoped>\n",
       "    .dataframe tbody tr th:only-of-type {\n",
       "        vertical-align: middle;\n",
       "    }\n",
       "\n",
       "    .dataframe tbody tr th {\n",
       "        vertical-align: top;\n",
       "    }\n",
       "\n",
       "    .dataframe thead th {\n",
       "        text-align: right;\n",
       "    }\n",
       "</style>\n",
       "<table border=\"1\" class=\"dataframe\">\n",
       "  <thead>\n",
       "    <tr style=\"text-align: right;\">\n",
       "      <th></th>\n",
       "      <th>churn_Yes</th>\n",
       "    </tr>\n",
       "  </thead>\n",
       "  <tbody>\n",
       "    <tr>\n",
       "      <th>count</th>\n",
       "      <td>4225.000000</td>\n",
       "    </tr>\n",
       "    <tr>\n",
       "      <th>mean</th>\n",
       "      <td>0.265325</td>\n",
       "    </tr>\n",
       "    <tr>\n",
       "      <th>std</th>\n",
       "      <td>0.441559</td>\n",
       "    </tr>\n",
       "    <tr>\n",
       "      <th>min</th>\n",
       "      <td>0.000000</td>\n",
       "    </tr>\n",
       "    <tr>\n",
       "      <th>25%</th>\n",
       "      <td>0.000000</td>\n",
       "    </tr>\n",
       "    <tr>\n",
       "      <th>50%</th>\n",
       "      <td>0.000000</td>\n",
       "    </tr>\n",
       "    <tr>\n",
       "      <th>75%</th>\n",
       "      <td>1.000000</td>\n",
       "    </tr>\n",
       "    <tr>\n",
       "      <th>max</th>\n",
       "      <td>1.000000</td>\n",
       "    </tr>\n",
       "  </tbody>\n",
       "</table>\n",
       "</div>"
      ],
      "text/plain": [
       "         churn_Yes\n",
       "count  4225.000000\n",
       "mean      0.265325\n",
       "std       0.441559\n",
       "min       0.000000\n",
       "25%       0.000000\n",
       "50%       0.000000\n",
       "75%       1.000000\n",
       "max       1.000000"
      ]
     },
     "execution_count": 5,
     "metadata": {},
     "output_type": "execute_result"
    }
   ],
   "source": [
    "y_train.describe()"
   ]
  },
  {
   "cell_type": "code",
   "execution_count": 6,
   "id": "33c8f0d2",
   "metadata": {
    "scrolled": true
   },
   "outputs": [
    {
     "data": {
      "text/html": [
       "<div>\n",
       "<style scoped>\n",
       "    .dataframe tbody tr th:only-of-type {\n",
       "        vertical-align: middle;\n",
       "    }\n",
       "\n",
       "    .dataframe tbody tr th {\n",
       "        vertical-align: top;\n",
       "    }\n",
       "\n",
       "    .dataframe thead th {\n",
       "        text-align: right;\n",
       "    }\n",
       "</style>\n",
       "<table border=\"1\" class=\"dataframe\">\n",
       "  <thead>\n",
       "    <tr style=\"text-align: right;\">\n",
       "      <th></th>\n",
       "      <th>gender_Male</th>\n",
       "      <th>senior_citizen_Yes</th>\n",
       "      <th>partner_Yes</th>\n",
       "      <th>dependents_Yes</th>\n",
       "    </tr>\n",
       "  </thead>\n",
       "  <tbody>\n",
       "    <tr>\n",
       "      <th>count</th>\n",
       "      <td>4225.000000</td>\n",
       "      <td>4225.000000</td>\n",
       "      <td>4225.000000</td>\n",
       "      <td>4225.000000</td>\n",
       "    </tr>\n",
       "    <tr>\n",
       "      <th>mean</th>\n",
       "      <td>0.508639</td>\n",
       "      <td>0.161893</td>\n",
       "      <td>0.488521</td>\n",
       "      <td>0.306272</td>\n",
       "    </tr>\n",
       "    <tr>\n",
       "      <th>std</th>\n",
       "      <td>0.499985</td>\n",
       "      <td>0.368397</td>\n",
       "      <td>0.499927</td>\n",
       "      <td>0.460999</td>\n",
       "    </tr>\n",
       "    <tr>\n",
       "      <th>min</th>\n",
       "      <td>0.000000</td>\n",
       "      <td>0.000000</td>\n",
       "      <td>0.000000</td>\n",
       "      <td>0.000000</td>\n",
       "    </tr>\n",
       "    <tr>\n",
       "      <th>25%</th>\n",
       "      <td>0.000000</td>\n",
       "      <td>0.000000</td>\n",
       "      <td>0.000000</td>\n",
       "      <td>0.000000</td>\n",
       "    </tr>\n",
       "    <tr>\n",
       "      <th>50%</th>\n",
       "      <td>1.000000</td>\n",
       "      <td>0.000000</td>\n",
       "      <td>0.000000</td>\n",
       "      <td>0.000000</td>\n",
       "    </tr>\n",
       "    <tr>\n",
       "      <th>75%</th>\n",
       "      <td>1.000000</td>\n",
       "      <td>0.000000</td>\n",
       "      <td>1.000000</td>\n",
       "      <td>1.000000</td>\n",
       "    </tr>\n",
       "    <tr>\n",
       "      <th>max</th>\n",
       "      <td>1.000000</td>\n",
       "      <td>1.000000</td>\n",
       "      <td>1.000000</td>\n",
       "      <td>1.000000</td>\n",
       "    </tr>\n",
       "  </tbody>\n",
       "</table>\n",
       "</div>"
      ],
      "text/plain": [
       "       gender_Male  senior_citizen_Yes  partner_Yes  dependents_Yes\n",
       "count  4225.000000         4225.000000  4225.000000     4225.000000\n",
       "mean      0.508639            0.161893     0.488521        0.306272\n",
       "std       0.499985            0.368397     0.499927        0.460999\n",
       "min       0.000000            0.000000     0.000000        0.000000\n",
       "25%       0.000000            0.000000     0.000000        0.000000\n",
       "50%       1.000000            0.000000     0.000000        0.000000\n",
       "75%       1.000000            0.000000     1.000000        1.000000\n",
       "max       1.000000            1.000000     1.000000        1.000000"
      ]
     },
     "execution_count": 6,
     "metadata": {},
     "output_type": "execute_result"
    }
   ],
   "source": [
    "X_train.describe()"
   ]
  },
  {
   "cell_type": "markdown",
   "id": "ff11a981",
   "metadata": {},
   "source": [
    "## Explore\n",
    "\n",
    "#### Answer the following initial questions:\n"
   ]
  },
  {
   "cell_type": "code",
   "execution_count": 7,
   "id": "5a9a934c",
   "metadata": {
    "scrolled": false
   },
   "outputs": [
    {
     "data": {
      "image/png": "[encoded data removed]",
      "text/plain": [
       "<Figure size 640x480 with 1 Axes>"
      ]
     },
     "metadata": {},
     "output_type": "display_data"
    }
   ],
   "source": [
    "acq.plot_gender_churn(X_train, y_train)"
   ]
  },
  {
   "cell_type": "code",
   "execution_count": 8,
   "id": "d9856d42",
   "metadata": {
    "scrolled": true
   },
   "outputs": [
    {
     "data": {
      "image/png": "[encoded data removed]",
      "text/plain": [
       "<Figure size 640x480 with 1 Axes>"
      ]
     },
     "metadata": {},
     "output_type": "display_data"
    }
   ],
   "source": [
    "acq.plot_senior_citizen_Yes_churn(X_train, y_train)"
   ]
  },
  {
   "cell_type": "code",
   "execution_count": null,
   "id": "c03c161a",
   "metadata": {},
   "outputs": [],
   "source": []
  },
  {
   "cell_type": "code",
   "execution_count": 10,
   "id": "f8d1018f",
   "metadata": {},
   "outputs": [
    {
     "data": {
      "image/png": "[encoded data removed]",
      "text/plain": [
       "<Figure size 640x480 with 1 Axes>"
      ]
     },
     "metadata": {},
     "output_type": "display_data"
    }
   ],
   "source": [
    "# Do people with dependents churn more?\n",
    "\n",
    "sns.barplot(X_train.partner_Yes, y_train.churn_Yes)\n",
    "\n",
    "# Add labels and title\n",
    "plt.ylabel('Churn (1 = Yes, 0 = No)')\n",
    "plt.title('Barplot of Partners and Churn')\n",
    "\n",
    "# Show the plot\n",
    "plt.show()"
   ]
  },
  {
   "cell_type": "code",
   "execution_count": 11,
   "id": "1d86d8bf",
   "metadata": {},
   "outputs": [
    {
     "data": {
      "image/png": "[encoded data removed]",
      "text/plain": [
       "<Figure size 640x480 with 1 Axes>"
      ]
     },
     "metadata": {},
     "output_type": "display_data"
    }
   ],
   "source": [
    "# Do people with partners churn more?\n",
    "\n",
    "sns.barplot(X_train.dependents_Yes, y_train.churn_Yes)\n",
    "\n",
    "# Add labels and title\n",
    "plt.ylabel('Churn (1 = Yes, 0 = No)')\n",
    "plt.title('Barplot of Dependents and Churn')\n",
    "\n",
    "# Show the plot\n",
    "plt.show()"
   ]
  },
  {
   "cell_type": "markdown",
   "id": "4ed24af2",
   "metadata": {},
   "source": [
    "## Exploration Summary\n",
    "\n",
    "    - Gender doesn't have a significant affect on churn\n",
    "    - There is a stronger relationship between churn and whether the customers have children, and/or partners\n",
    "    \n",
    "## Modeling\n",
    "\n",
    "    - I will use accuracy as my evaluation metric\n",
    "    - My baseline accuracy was 73.4%\n",
    "    - I was not able to beat the baseline accuracy of 73.4, only achieving a baseline accuracy of 73% \n",
    "    \n",
    "## Decision Tree"
   ]
  },
  {
   "cell_type": "code",
   "execution_count": null,
   "id": "307e70f7",
   "metadata": {},
   "outputs": [],
   "source": []
  },
  {
   "cell_type": "code",
   "execution_count": 12,
   "id": "61b8298d",
   "metadata": {
    "scrolled": true
   },
   "outputs": [
    {
     "name": "stdout",
     "output_type": "stream",
     "text": [
      "for depth of  1, the train accuracy is 0.73\n",
      "for depth of  1, the validate accuracy is 0.73\n",
      "\n",
      "for depth of  2, the train accuracy is 0.73\n",
      "for depth of  2, the validate accuracy is 0.73\n",
      "\n",
      "for depth of  3, the train accuracy is 0.73\n",
      "for depth of  3, the validate accuracy is 0.73\n",
      "\n"
     ]
    }
   ],
   "source": [
    "acq.train_validate_accuracy_dt(X_train, y_train, X_validate, y_validate)"
   ]
  },
  {
   "cell_type": "markdown",
   "id": "e4244e96",
   "metadata": {},
   "source": [
    "## Random Forest"
   ]
  },
  {
   "cell_type": "code",
   "execution_count": 13,
   "id": "b57b76f6",
   "metadata": {},
   "outputs": [
    {
     "data": {
      "text/plain": [
       "0.7345635202271115"
      ]
     },
     "execution_count": 13,
     "metadata": {},
     "output_type": "execute_result"
    }
   ],
   "source": [
    "tree = RandomForestClassifier()\n",
    "tree.fit(X_train, y_train)\n",
    "tree.score(X_train, y_train)\n",
    "tree.score(X_validate, y_validate)"
   ]
  },
  {
   "cell_type": "code",
   "execution_count": 14,
   "id": "5d4458c0",
   "metadata": {},
   "outputs": [
    {
     "name": "stdout",
     "output_type": "stream",
     "text": [
      "for depth of  1, the train accuracy is 0.73\n",
      "for depth of  1, the validate accuracy is 0.73\n",
      "\n",
      "for depth of  2, the train accuracy is 0.73\n",
      "for depth of  2, the validate accuracy is 0.73\n",
      "\n",
      "for depth of  3, the train accuracy is 0.73\n",
      "for depth of  3, the validate accuracy is 0.73\n",
      "\n",
      "for depth of  4, the train accuracy is 0.73\n",
      "for depth of  4, the validate accuracy is 0.73\n",
      "\n"
     ]
    }
   ],
   "source": [
    "for x in range(1,5):\n",
    "#     print(x)\n",
    "    tree = RandomForestClassifier(max_depth=x)\n",
    "    tree.fit(X_train, y_train)\n",
    "    acc = tree.score(X_train, y_train)\n",
    "    val = tree.score(X_validate, y_validate)\n",
    "    print(f'for depth of {x:2}, the train accuracy is {round(acc,2)}')\n",
    "    print(f'for depth of {x:2}, the validate accuracy is {round(val,2)}')\n",
    "    print()"
   ]
  },
  {
   "cell_type": "markdown",
   "id": "226316f0",
   "metadata": {},
   "source": [
    "## Comparing Models\n",
    "\n",
    "Neither DecisionTree nor RandomForest were able to beat my baseline accuracy of 73.4 \n",
    "\n",
    "# Conclusions\n",
    "\n",
    "### Exploration\n",
    "\n",
    "Gender doesn't seem to be strongly associated with churn. There is a stronger relationship between churn and whether the customers are senior citizents, have children, and/or partners.\n",
    "\n",
    "### Modeling\n",
    "\n",
    "The final model signinficantly outperformed the baseline\n",
    "\n",
    "### Recommendations \n",
    "\n",
    "Offer discounts to senior citizens to reduce churn, and family bundle discounts to fortify the lower churn rate of those with partners and dependents.\n",
    "\n",
    "### Next Steps\n",
    "\n",
    "Do additional analysis comparing combinations of features to find the highest combinations of churn."
   ]
  }
 ],
 "metadata": {
  "kernelspec": {
   "display_name": "Python 3 (ipykernel)",
   "language": "python",
   "name": "python3"
  },
  "language_info": {
   "codemirror_mode": {
    "name": "ipython",
    "version": 3
   },
   "file_extension": ".py",
   "mimetype": "text/x-python",
   "name": "python",
   "nbconvert_exporter": "python",
   "pygments_lexer": "ipython3",
   "version": "3.9.13"
  }
 },
 "nbformat": 4,
 "nbformat_minor": 5
}
